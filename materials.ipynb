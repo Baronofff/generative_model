{
 "cells": [
  {
   "cell_type": "markdown",
   "id": "ac7ef748",
   "metadata": {},
   "source": [
    "https://github.com/openai/gpt-2\n"
   ]
  },
  {
   "cell_type": "markdown",
   "id": "55da9184",
   "metadata": {},
   "source": [
    "https://dzen.ru/a/Z7dArOvPWnVMdL9g вот план видео"
   ]
  },
  {
   "cell_type": "markdown",
   "id": "c6d43816",
   "metadata": {},
   "source": []
  }
 ],
 "metadata": {
  "language_info": {
   "name": "python"
  }
 },
 "nbformat": 4,
 "nbformat_minor": 5
}
