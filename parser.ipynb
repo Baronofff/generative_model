{
 "cells": [
  {
   "cell_type": "code",
   "execution_count": 4,
   "id": "a8686596",
   "metadata": {},
   "outputs": [],
   "source": [
    "urls = [\n",
    "    \"http://az.lib.ru/t/tolstoj_lew_nikolaewich/text_0039.shtml\",\n",
    "    \"http://az.lib.ru/t/tolstoj_lew_nikolaewich/text_0040.shtml\",\n",
    "    \"http://az.lib.ru/t/tolstoj_lew_nikolaewich/text_0050.shtml\",\n",
    "    \"http://az.lib.ru/t/tolstoj_lew_nikolaewich/text_0060.shtml\",\n",
    "    \"http://az.lib.ru/t/tolstoj_lew_nikolaewich/text_0070.shtml\",\n",
    "    \"http://az.lib.ru/t/tolstoj_lew_nikolaewich/text_0080.shtml\",\n",
    "    \"http://az.lib.ru/t/tolstoj_lew_nikolaewich/text_0090.shtml\",\n",
    "    \"http://az.lib.ru/t/tolstoj_lew_nikolaewich/text_1860_dekabristy.shtml\",\n",
    "    \"http://az.lib.ru/j/jakubowich_p_f/text_0014.shtml\",\n",
    "    \"http://az.lib.ru/g/grigorowich_d_w/text_1853_rybaki.shtml\",\n",
    "    \"http://az.lib.ru/m/maminsibirjak_d/text_0030.shtml\",\n",
    "    \"http://az.lib.ru/k/karabchewskij_n_p/text_0020.shtml\",\n",
    "    \"http://az.lib.ru/k/klychkow_s_a/text_0170.shtml\",\n",
    "    \"http://az.lib.ru/d/djuma_a/text_1844_le_comte_de_monte-cristo.shtml\",\n",
    "    \"http://az.lib.ru/k/krasnow_p_n/text_0030.shtml\",\n",
    "    \"http://az.lib.ru/l/lejkin_n_a/text_1889_v_ozhidanii_nasledstva_oldorfo.shtml\"\n",
    "]"
   ]
  },
  {
   "cell_type": "markdown",
   "id": "666d2a1a",
   "metadata": {},
   "source": [
    "надо переписать код с seed_url"
   ]
  },
  {
   "cell_type": "code",
   "execution_count": 5,
   "id": "07d0fc6f",
   "metadata": {},
   "outputs": [],
   "source": [
    "import html\n",
    "import re\n",
    "\n",
    "import requests\n",
    "\n",
    "\n",
    "def download(url):\n",
    "    return requests.get(url).text\n",
    "\n",
    "\n",
    "# code borrowed from here: https://github.com/pallets/markupsafe/blob/0.23/markupsafe/__init__.py#L21\n",
    "striptags_re = re.compile(r\"(<!--.*?-->|<[^>]*>)\")\n",
    "entity_re = re.compile(r\"&([^;]+);\")\n",
    "\n",
    "\n",
    "def to_text(s):\n",
    "    return html.unescape(striptags_re.sub(\"\", s))\n",
    "\n",
    "\n",
    "def beautify(s):\n",
    "    lines = [x.strip() for x in s.split(\"\\n\") if x.strip() != \"\"]\n",
    "    for i in range(min(100, len(lines))):\n",
    "        if lines[i] == \"-->\":\n",
    "            break\n",
    "    return \"\\n\".join(lines[i + 1 :] if i < 100 else lines)\n",
    "\n",
    "\n",
    "with open(\"dataset.txt\", \"w\", encoding=\"utf-8\") as f:\n",
    "    for u in urls:\n",
    "        text = beautify(to_text(download(u)))\n",
    "        f.write(text + \"\\n\\n\")"
   ]
  }
 ],
 "metadata": {
  "kernelspec": {
   "display_name": "venv",
   "language": "python",
   "name": "python3"
  },
  "language_info": {
   "codemirror_mode": {
    "name": "ipython",
    "version": 3
   },
   "file_extension": ".py",
   "mimetype": "text/x-python",
   "name": "python",
   "nbconvert_exporter": "python",
   "pygments_lexer": "ipython3",
   "version": "3.11.5"
  }
 },
 "nbformat": 4,
 "nbformat_minor": 5
}
